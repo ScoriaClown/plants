{
 "cells": [
  {
   "cell_type": "markdown",
   "metadata": {},
   "source": [
    "# Testing the trained detection model and customizing box naming based on position"
   ]
  },
  {
   "cell_type": "markdown",
   "metadata": {},
   "source": [
    "## Importing libraries"
   ]
  },
  {
   "cell_type": "code",
   "execution_count": null,
   "metadata": {},
   "outputs": [],
   "source": [
    "import os\n",
    "import torch, detectron2\n",
    "import numpy as np\n",
    "from PIL import Image\n",
    "import cv2\n",
    "import pandas as pd\n",
    "\n",
    "TORCH_VERSION = \".\".join(torch.__version__.split(\".\")[:2])\n",
    "CUDA_VERSION = torch.__version__.split(\"+\")[-1]\n",
    "print(\"torch: \", TORCH_VERSION, \"; cuda: \", CUDA_VERSION)\n",
    "print(\"detectron2:\", detectron2.__version__)\n",
    "print(\"numpy:\", np.__version__)\n",
    "print(\"pandas:\", pd.__version__)"
   ]
  },
  {
   "cell_type": "code",
   "execution_count": null,
   "metadata": {},
   "outputs": [],
   "source": [
    "from detectron2 import model_zoo\n",
    "from detectron2.engine import DefaultPredictor\n",
    "from detectron2.config import get_cfg\n",
    "from detectron2.data import MetadataCatalog, DatasetCatalog\n",
    "from detectron2.data.datasets import register_coco_instances\n",
    "from detectron2.utils.logger import setup_logger\n",
    "from detectron2 import model_zoo\n",
    "from detectron2.engine import DefaultPredictor\n",
    "from detectron2.config import get_cfg\n",
    "from detectron2.utils.visualizer import Visualizer\n",
    "from detectron2.utils.visualizer import ColorMode\n",
    "\n",
    "setup_logger()"
   ]
  },
  {
   "cell_type": "markdown",
   "metadata": {},
   "source": [
    "## Loading metadata and trained model"
   ]
  },
  {
   "cell_type": "code",
   "execution_count": null,
   "metadata": {},
   "outputs": [],
   "source": [
    "train_images = \"/home/james/Projects/Fenotypizace/Annotations/Train/images/\"\n",
    "train_json = \"/home/james/Projects/Fenotypizace/Annotations/Train/result.json\"\n",
    "\n",
    "register_coco_instances(\"my_trainset\", {}, train_json, train_images)\n",
    "\n",
    "metadata = MetadataCatalog.get(\"my_trainset\")\n",
    "dataset_dicts = DatasetCatalog.get(\"my_trainset\")\n",
    "\n",
    "print(metadata)"
   ]
  },
  {
   "cell_type": "code",
   "execution_count": null,
   "metadata": {},
   "outputs": [],
   "source": [
    "cfg = get_cfg()\n",
    "# cfg.MODEL.DEVICE = \"cpu\"\n",
    "cfg.merge_from_file(\n",
    "    model_zoo.get_config_file(\"COCO-InstanceSegmentation/mask_rcnn_R_50_FPN_3x.yaml\")\n",
    ")\n",
    "cfg.DATALOADER.NUM_WORKERS = 8\n",
    "cfg.MODEL.WEIGHTS = \"/home/james/Projects/Fenotypizace/output/model_final.pth\"\n",
    "# cfg.MODEL.WEIGHTS = \"/home/james/Projects/Fenotypizace/output_old/model_final.pth\"\n",
    "cfg.MODEL.ROI_HEADS.NUM_CLASSES = 1\n",
    "cfg.MODEL.ROI_HEADS.SCORE_THRESH_TEST = 0.7\n",
    "predictor = DefaultPredictor(cfg)"
   ]
  },
  {
   "cell_type": "markdown",
   "metadata": {},
   "source": [
    "## Testing the model on a sample images, to better visualize the locations of the boxes"
   ]
  },
  {
   "cell_type": "code",
   "execution_count": null,
   "metadata": {},
   "outputs": [],
   "source": [
    "test_dir = os.scandir(\"/home/james/Projects/Fenotypizace/Test_segments/\")\n",
    "save_dir = \"/home/james/Projects/Fenotypizace/Segmentations/\"\n",
    "\n",
    "for img in test_dir:\n",
    "    im = cv2.imread(img.path)\n",
    "    outputs = predictor(im)\n",
    "    v = Visualizer(\n",
    "        im[:, :, ::-1], metadata=metadata, scale=0.8, instance_mode=ColorMode.IMAGE\n",
    "    )\n",
    "    v = v.draw_instance_predictions(outputs[\"instances\"].to(\"cpu\"))\n",
    "    cv2.imwrite(save_dir + img.name[:-4] + \".png\", v.get_image()[:, :, ::-1])"
   ]
  },
  {
   "cell_type": "markdown",
   "metadata": {},
   "source": [
    "## Creating a functions to customize the box naming based on position"
   ]
  },
  {
   "cell_type": "code",
   "execution_count": null,
   "metadata": {},
   "outputs": [],
   "source": [
    "def num_of_columns(x_min):\n",
    "    column = \"Unknown_Column_\"\n",
    "\n",
    "    if 250 <= x_min <= 460:\n",
    "        column = \"1\"\n",
    "\n",
    "    elif 520 <= x_min <= 740:  # 413\n",
    "        column = \"2\"\n",
    "\n",
    "    elif 760 <= x_min <= 1030:\n",
    "        column = \"3\"\n",
    "\n",
    "    elif 1090 <= x_min <= 1300:\n",
    "        column = \"4\"\n",
    "\n",
    "    elif 1360 <= x_min <= 1625:\n",
    "        column = \"5\"\n",
    "\n",
    "    elif 1640 <= x_min <= 1900:\n",
    "        column = \"6\"\n",
    "\n",
    "    elif 1920 <= x_min <= 2170:\n",
    "        column = \"7\"\n",
    "\n",
    "    elif 2210 <= x_min <= 2470:\n",
    "        column = \"8\"\n",
    "\n",
    "    elif 2510 <= x_min <= 2900:\n",
    "        column = \"9\"\n",
    "\n",
    "    return column"
   ]
  },
  {
   "cell_type": "code",
   "execution_count": null,
   "metadata": {},
   "outputs": [],
   "source": [
    "def num_of_rows(y_min):\n",
    "\n",
    "    row = \"Unknown_Row_\"\n",
    "\n",
    "    if 150 <= y_min <= 350:\n",
    "        row = \"1-\"\n",
    "\n",
    "    elif 380 <= y_min <= 580:\n",
    "        row = \"2-\"\n",
    "\n",
    "    elif 650 <= y_min <= 830:\n",
    "        row = \"3-\"\n",
    "\n",
    "    elif 920 <= y_min <= 1100:\n",
    "        row = \"4-\"\n",
    "\n",
    "    elif 1170 <= y_min <= 1330:\n",
    "        row = \"5-\"\n",
    "\n",
    "    elif 1400 <= y_min <= 1590:\n",
    "        row = \"6-\"\n",
    "\n",
    "    elif 1660 <= y_min <= 1840:\n",
    "        row = \"7-\"\n",
    "\n",
    "    elif 1880 <= y_min <= 2300:\n",
    "        row = \"8-\"\n",
    "\n",
    "    return row"
   ]
  },
  {
   "cell_type": "markdown",
   "metadata": {},
   "source": [
    "## Creating a function to process the images and save the results\n",
    "\n",
    "- The function fenotypizace(root, path) takes two arguments: root which is the directory containing the images to be processed, and path which is the directory where the output will be stored.\n",
    "- The function starts by scanning the root directory and initializing an empty DataFrame with specific columns.\n",
    "- For each image in the root directory, the function reads the image and applies a prediction model to it.\n",
    "- If an error occurs during the prediction, the function prints an error message and the name of the file.\n",
    "- The function then converts the prediction masks to a list that can be processed by the CPU.\n",
    "- For each mask in the list, the function finds the boundary points of the bounding box, assigns a column and row based on the position of the box, and creates a new directory for storing the box based on its position.\n",
    "- The function then crops the image and the mask based on the bounding box, combines the cropped image and mask into a new image, and saves the new image in the new directory.\n",
    "- If the column or row is unknown, the function prints an error message, adds a new row to the DataFrame with the boundary points and the name of the box, and saves the new image with a different name.\n",
    "- Finally, the function saves the DataFrame to a CSV file in the path directory for debugging purposes."
   ]
  },
  {
   "cell_type": "code",
   "execution_count": null,
   "metadata": {},
   "outputs": [],
   "source": [
    "def fenotypizace(root, path):\n",
    "    root_dir = os.scandir(root)\n",
    "    df = pd.DataFrame(\n",
    "        columns=[\"Sloupec_x_min\", \"Sloupec_x_max\", \"Radek_y_min\", \"Radek_y_max\", \"name\"]\n",
    "    )\n",
    "\n",
    "    for img in root_dir:\n",
    "        name = img.name[:-4]\n",
    "        # print(name)\n",
    "        # print(img.path)\n",
    "        # print(img.name[:2])\n",
    "\n",
    "        try:\n",
    "            inp = cv2.imread(img.path)\n",
    "            outputs = predictor(inp)\n",
    "\n",
    "        except:\n",
    "            print(\"Error soubor: \" + name)\n",
    "\n",
    "        masks = np.asarray(\n",
    "            outputs[\"instances\"].pred_masks.to(\"cpu\")\n",
    "        )  # Vezme output/obrázek z predikce našeho modelu a udělá z ní list masek, kterou zpracovává CPU\n",
    "        num_of_iter = len(masks)\n",
    "\n",
    "        for i in range(num_of_iter):\n",
    "            item_mask = masks[i]  # Vezme masku pouze jednoho objektu z obrázku\n",
    "            segmentation = np.where(item_mask == True)\n",
    "\n",
    "            # Nalezení hraničnch bodů jedlivých boxů\n",
    "            x_min = int(np.min(segmentation[1]))\n",
    "            x_max = int(np.max(segmentation[1]))\n",
    "            y_min = int(np.min(segmentation[0]))\n",
    "            y_max = int(np.max(segmentation[0]))\n",
    "\n",
    "            # Funkce na přiřazení sloupce a řádku na základě polohy boxu\n",
    "            column = num_of_columns(x_min)\n",
    "            row = num_of_rows(y_min)\n",
    "            box = row + column\n",
    "            # print(box)\n",
    "\n",
    "            # Vytvoření nové složky pro uložení boxu na základě polohy\n",
    "            new_path = path + \"/Tray_\" + img.name[:2] + \"/\" + box + \"/\"\n",
    "            # new_path = path + \"/Tray_\" + img.name[:2] + \"/\"\n",
    "            isExist = os.path.exists(new_path)\n",
    "            if not isExist:\n",
    "                os.makedirs(new_path)\n",
    "\n",
    "            # Vyříznutí boxu z obrázku, Vytvoření masky a následné vyřiznutí masky boxu z obrázku\n",
    "            cropped = Image.fromarray(inp[y_min:y_max, x_min:x_max, :], mode=\"RGB\")\n",
    "            mask = Image.fromarray((item_mask * 255).astype(\"uint8\"))\n",
    "            # cv2.imwrite(new_path + name + \"_\" + str(i) + \".png\", np.array(mask))\n",
    "            cropped_mask = mask.crop((x_min, y_min, x_max, y_max))\n",
    "\n",
    "            # Spojení boxu a masky do jednoho obrázku, kdy ve předu je obrázek, který je ohraničený maskou = černou barvou\n",
    "            new_fg_image = Image.new(\"RGB\", cropped_mask.size)\n",
    "            new_fg_image.paste(cropped, cropped_mask)\n",
    "\n",
    "            # new_row = pd.DataFrame({\"Sloupec_x_min\": [x_min], \"Sloupec_x_max\": [x_max], \"Radek_y_min\": [y_min], \"Radek_y_max\": [y_max], \"name\": [name]})\n",
    "            # df = pd.concat([df, new_row], ignore_index=True)\n",
    "\n",
    "            # Uložení vyříznutého boxu\n",
    "            if column == \"Unknown_Column_\" or row == \"Unknown_Row_\":\n",
    "                print(\"Chyba pri rozpoznani boxu\")\n",
    "                print(name + \" - \" + box)\n",
    "                new_row = pd.DataFrame(\n",
    "                    {\n",
    "                        \"Sloupec_x_min\": [x_min],\n",
    "                        \"Sloupec_x_max\": [x_max],\n",
    "                        \"Radek_y_min\": [y_min],\n",
    "                        \"Radek_y_max\": [y_max],\n",
    "                        \"name\": [name + \" - \" + box],\n",
    "                    }\n",
    "                )\n",
    "                df = pd.concat([df, new_row], ignore_index=True)\n",
    "                cv2.imwrite(\n",
    "                    new_path + name + \"_\" + box + \".png\", np.array(new_fg_image)\n",
    "                )\n",
    "\n",
    "                # with open(path + \"/polohy.txt\", \"a\", encoding=\"utf-8\") as fp:\n",
    "                #     fp.write(\"Prvni dvoujcisly je sloupec, druhe je radek\\n\")\n",
    "                #     for line in x_min, x_max, y_min, y_max:\n",
    "                #         if line == y_max:\n",
    "                #           fp.write(\"%s\"%line + \" - \" + name +\" - \" + box + \"\\n\")\n",
    "                #         else:\n",
    "                #           fp.write(\"%s + \" %line)\n",
    "\n",
    "            else:\n",
    "                cv2.imwrite(\n",
    "                    new_path + name + \"_\" + box + \".png\", np.array(new_fg_image)\n",
    "                )  # .png\n",
    "    df.to_csv(path + \"/polohy.csv\", index=False)"
   ]
  },
  {
   "cell_type": "markdown",
   "metadata": {},
   "source": [
    "## Running the function on the sample images"
   ]
  },
  {
   "cell_type": "code",
   "execution_count": null,
   "metadata": {},
   "outputs": [],
   "source": [
    "# root = \"/mnt/d/Záloha/Fenotypizace/data/raw/Obrázky/\"\n",
    "# path = \"/home/james/Projects/Fenotypizace/Segmentations/\"\n",
    "\n",
    "root = \"/home/james/Projects/Fenotypizace/Test_segments/\"\n",
    "path = \"/home/james/Projects/Fenotypizace/Masks/\"\n",
    "\n",
    "fenotypizace(root, path)\n",
    "\n",
    "print(\"All done\")"
   ]
  },
  {
   "cell_type": "markdown",
   "metadata": {},
   "source": [
    "## Debugging the results"
   ]
  },
  {
   "cell_type": "code",
   "execution_count": null,
   "metadata": {},
   "outputs": [],
   "source": [
    "df = pd.read_csv(path + \"/polohy.csv\")"
   ]
  },
  {
   "cell_type": "code",
   "execution_count": null,
   "metadata": {},
   "outputs": [],
   "source": [
    "df[\"name\"] = df[\"name\"].astype(\"category\")\n",
    "\n",
    "df.dtypes"
   ]
  },
  {
   "cell_type": "code",
   "execution_count": null,
   "metadata": {},
   "outputs": [],
   "source": [
    "df"
   ]
  },
  {
   "cell_type": "code",
   "execution_count": null,
   "metadata": {},
   "outputs": [],
   "source": [
    "# filtered_df = df.loc[df['name'] == '48_24-11-21-04-00-01']\n",
    "# sorted_df = filtered_df.sort_values(by='Radek_y_min')\n",
    "# sorted_df"
   ]
  },
  {
   "cell_type": "code",
   "execution_count": null,
   "metadata": {},
   "outputs": [],
   "source": [
    "# img = \"/home/james/Projects/Fenotypizace/47_29-11-21-10-00-01.png\"\n",
    "\n",
    "# im = cv2.imread(img)\n",
    "# outputs = predictor(im)\n",
    "# v = Visualizer(im[:, :, ::-1],\n",
    "#                 metadata=metadata,\n",
    "#                 scale=0.8,\n",
    "#                 instance_mode=ColorMode.IMAGE\n",
    "# )\n",
    "# v = v.draw_instance_predictions(outputs[\"instances\"].to(\"cpu\"))\n",
    "# cv2.imwrite(\"a.png\", v.get_image()[:, :, ::-1])"
   ]
  }
 ],
 "metadata": {
  "kernelspec": {
   "display_name": "Feno",
   "language": "python",
   "name": "python3"
  },
  "language_info": {
   "codemirror_mode": {
    "name": "ipython",
    "version": 3
   },
   "file_extension": ".py",
   "mimetype": "text/x-python",
   "name": "python",
   "nbconvert_exporter": "python",
   "pygments_lexer": "ipython3",
   "version": "3.9.18"
  }
 },
 "nbformat": 4,
 "nbformat_minor": 2
}
